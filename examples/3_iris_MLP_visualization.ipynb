{
 "cells": [
  {
   "cell_type": "code",
   "execution_count": 1,
   "metadata": {},
   "outputs": [
    {
     "name": "stderr",
     "output_type": "stream",
     "text": [
      "/home/dl-box/anaconda3/envs/keras/lib/python3.5/site-packages/h5py/__init__.py:36: FutureWarning: Conversion of the second argument of issubdtype from `float` to `np.floating` is deprecated. In future, it will be treated as `np.float64 == np.dtype(float).type`.\n",
      "  from ._conv import register_converters as _register_converters\n",
      "Using TensorFlow backend.\n"
     ]
    }
   ],
   "source": [
    "import numpy as np\n",
    "from sklearn import datasets\n",
    "from sklearn.model_selection import train_test_split\n",
    "from sklearn import preprocessing\n",
    "\n",
    "import matplotlib.pyplot as plt\n",
    "%matplotlib inline\n",
    "\n",
    "from keras.utils import np_utils"
   ]
  },
  {
   "cell_type": "markdown",
   "metadata": {},
   "source": [
    "# load the iris dataset"
   ]
  },
  {
   "cell_type": "code",
   "execution_count": 2,
   "metadata": {},
   "outputs": [
    {
     "name": "stdout",
     "output_type": "stream",
     "text": [
      "['sepal length (cm)', 'sepal width (cm)', 'petal length (cm)', 'petal width (cm)']\n"
     ]
    }
   ],
   "source": [
    "iris = datasets.load_iris()\n",
    "#check what the input data means\n",
    "print(iris.feature_names)"
   ]
  },
  {
   "cell_type": "code",
   "execution_count": 3,
   "metadata": {},
   "outputs": [
    {
     "name": "stdout",
     "output_type": "stream",
     "text": [
      "(150, 4) (150, 3)\n"
     ]
    }
   ],
   "source": [
    "#load input data and scale range\n",
    "data = preprocessing.scale(iris.data)\n",
    "\n",
    "#load ouput labels\n",
    "label = iris.target\n",
    "label = np_utils.to_categorical(label)\n",
    "\n",
    "print(data.shape,label.shape)"
   ]
  },
  {
   "cell_type": "code",
   "execution_count": 4,
   "metadata": {},
   "outputs": [
    {
     "name": "stdout",
     "output_type": "stream",
     "text": [
      "(120, 4) (30, 4) (120, 3) (30, 3)\n"
     ]
    },
    {
     "name": "stderr",
     "output_type": "stream",
     "text": [
      "/home/dl-box/anaconda3/envs/keras/lib/python3.5/site-packages/sklearn/model_selection/_split.py:2026: FutureWarning: From version 0.21, test_size will always complement train_size unless both are specified.\n",
      "  FutureWarning)\n"
     ]
    }
   ],
   "source": [
    "#train test split\n",
    "train_X, test_X, train_y, test_y = train_test_split(data, label, train_size=0.8,random_state=3)\n",
    "print(train_X.shape, test_X.shape, train_y.shape, test_y.shape)"
   ]
  },
  {
   "cell_type": "markdown",
   "metadata": {},
   "source": [
    "# load mlp model with trained weights that classifies the input data into 3 classes"
   ]
  },
  {
   "cell_type": "code",
   "execution_count": 6,
   "metadata": {},
   "outputs": [],
   "source": [
    "from kwb.models import iris_mlp"
   ]
  },
  {
   "cell_type": "code",
   "execution_count": 8,
   "metadata": {},
   "outputs": [],
   "source": [
    "model = iris_mlp()"
   ]
  },
  {
   "cell_type": "code",
   "execution_count": 9,
   "metadata": {},
   "outputs": [
    {
     "name": "stdout",
     "output_type": "stream",
     "text": [
      "_________________________________________________________________\n",
      "Layer (type)                 Output Shape              Param #   \n",
      "=================================================================\n",
      "firstlayer (Dense)           (None, 8)                 40        \n",
      "_________________________________________________________________\n",
      "activation_1 (Activation)    (None, 8)                 0         \n",
      "_________________________________________________________________\n",
      "dropout_1 (Dropout)          (None, 8)                 0         \n",
      "_________________________________________________________________\n",
      "secondlayer (Dense)          (None, 8)                 72        \n",
      "_________________________________________________________________\n",
      "dropout_2 (Dropout)          (None, 8)                 0         \n",
      "_________________________________________________________________\n",
      "activation_2 (Activation)    (None, 8)                 0         \n",
      "_________________________________________________________________\n",
      "prepredictions (Dense)       (None, 3)                 27        \n",
      "_________________________________________________________________\n",
      "predictions (Activation)     (None, 3)                 0         \n",
      "=================================================================\n",
      "Total params: 139\n",
      "Trainable params: 139\n",
      "Non-trainable params: 0\n",
      "_________________________________________________________________\n"
     ]
    }
   ],
   "source": [
    "model.summary()"
   ]
  },
  {
   "cell_type": "code",
   "execution_count": 10,
   "metadata": {},
   "outputs": [
    {
     "name": "stdout",
     "output_type": "stream",
     "text": [
      "120/120 [==============================] - 0s 1ms/step\n",
      "[0.06792142714063326, 0.9666666666666667]\n",
      "30/30 [==============================] - 0s 60us/step\n",
      "[0.05477446690201759, 0.9666666388511658]\n"
     ]
    }
   ],
   "source": [
    "print(model.evaluate(train_X,train_y))\n",
    "print(model.evaluate(test_X,test_y))\n",
    "#output indicates loss and accuracy, respectively."
   ]
  },
  {
   "cell_type": "code",
   "execution_count": 11,
   "metadata": {},
   "outputs": [
    {
     "name": "stdout",
     "output_type": "stream",
     "text": [
      "[-1.50652052  0.33784833 -1.3412724  -1.31297673]\n",
      "[1. 0. 0.] 0\n",
      "[[9.9971217e-01 2.8768831e-04 6.4823887e-08]] 0\n"
     ]
    }
   ],
   "source": [
    "#lets use the first data of test_X (test_X[0]) for visualization\n",
    "print(test_X[0])\n",
    "print(test_y[0],np.argmax(test_y[0])) #true label,\n",
    "\n",
    "print(model.predict(test_X[0:1]),np.argmax(model.predict(test_X[0:1]))) #predicted label\n"
   ]
  },
  {
   "cell_type": "markdown",
   "metadata": {},
   "source": [
    "# visualizing intermediate output of MLP"
   ]
  },
  {
   "cell_type": "code",
   "execution_count": null,
   "metadata": {},
   "outputs": [],
   "source": [
    "from kwb.attention_map import i"
   ]
  },
  {
   "cell_type": "code",
   "execution_count": 12,
   "metadata": {},
   "outputs": [
    {
     "ename": "NameError",
     "evalue": "name 'kwb' is not defined",
     "output_type": "error",
     "traceback": [
      "\u001b[0;31m---------------------------------------------------------------------------\u001b[0m",
      "\u001b[0;31mNameError\u001b[0m                                 Traceback (most recent call last)",
      "\u001b[0;32m<ipython-input-12-95bb1667c0c2>\u001b[0m in \u001b[0;36m<module>\u001b[0;34m()\u001b[0m\n\u001b[0;32m----> 1\u001b[0;31m intout = kwb.utils.intermediate_output(model,test_X[0],\"firstlayer\",visualize=True,\n\u001b[0m\u001b[1;32m      2\u001b[0m                              row=6,col=6,cmap=\"Reds\")\n\u001b[1;32m      3\u001b[0m intout = kwb.utils.intermediate_output(model,test_X[0],\"secondlayer\",visualize=True,\n\u001b[1;32m      4\u001b[0m                              row=6,col=6,cmap=\"Reds\")\n\u001b[1;32m      5\u001b[0m \u001b[0;34m\u001b[0m\u001b[0m\n",
      "\u001b[0;31mNameError\u001b[0m: name 'kwb' is not defined"
     ]
    }
   ],
   "source": [
    "intout = intermediate_output(model,test_X[0],\"firstlayer\",visualize=True,\n",
    "                             row=6,col=6,cmap=\"Reds\")\n",
    "intout = intermediate_output(model,test_X[0],\"secondlayer\",visualize=True,\n",
    "                             row=6,col=6,cmap=\"Reds\")\n",
    "\n",
    "intout = intermediate_output(model,test_X[0],\"prepredictions\",visualize=True,\n",
    "                             row=6,col=6,cmap=\"Reds\")\n"
   ]
  },
  {
   "cell_type": "markdown",
   "metadata": {},
   "source": [
    "# Visualize the importance of input data by guided backpropagation "
   ]
  },
  {
   "cell_type": "code",
   "execution_count": 12,
   "metadata": {},
   "outputs": [
    {
     "data": {
      "text/plain": [
       "<BarContainer object of 4 artists>"
      ]
     },
     "execution_count": 12,
     "metadata": {},
     "output_type": "execute_result"
    },
    {
     "data": {
      "image/png": "[encoded data removed]",
      "text/plain": [
       "<Figure size 432x288 with 1 Axes>"
      ]
     },
     "metadata": {},
     "output_type": "display_data"
    }
   ],
   "source": [
    "gmodel = kwb.utils.build_guided_model(model)\n",
    "gb = kwb.utils.guided_backprop(gmodel,test_X[0],\"prepredictions\",normalize=\"raw\")\n",
    "plt.barh(iris.feature_names,gb)\n",
    "\n",
    "#by comparing the absolute values of each column, the contribution to the classification is\n",
    "#ordered by petal length, sepal width, and petal width. And can interpret that sepal length has the least impact\n",
    "#upon classification"
   ]
  }
 ],
 "metadata": {
  "kernelspec": {
   "display_name": "Environment (conda_keras)",
   "language": "python",
   "name": "conda_keras"
  },
  "language_info": {
   "codemirror_mode": {
    "name": "ipython",
    "version": 3
   },
   "file_extension": ".py",
   "mimetype": "text/x-python",
   "name": "python",
   "nbconvert_exporter": "python",
   "pygments_lexer": "ipython3",
   "version": "3.5.5"
  }
 },
 "nbformat": 4,
 "nbformat_minor": 2
}
